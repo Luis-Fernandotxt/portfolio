{
  "nbformat": 4,
  "nbformat_minor": 0,
  "metadata": {
    "colab": {
      "provenance": []
    },
    "kernelspec": {
      "name": "python3",
      "display_name": "Python 3"
    }
  },
  "cells": [
    {
      "cell_type": "markdown",
      "metadata": {
        "id": "KJqp9AANOCtf"
      },
      "source": [
        "<img src=\"https://raw.githubusercontent.com/andre-marcos-perez/ebac-course-utils/main/media/logo/newebac_logo_black_half.png\" alt=\"ebac-logo\">\n",
        "\n",
        "---\n",
        "\n",
        "# **Módulo** | Análise de Dados: Data Wrangling II\n",
        "Caderno de **Exercícios**<br>\n",
        "Professor [André Perez](https://www.linkedin.com/in/andremarcosperez/)\n",
        "\n",
        "---"
      ]
    },
    {
      "cell_type": "markdown",
      "metadata": {
        "id": "d9jDtUbDOE1-"
      },
      "source": [
        "# **Tópicos**\n",
        "\n",
        "<ol type=\"1\">\n",
        "  <li>Agregação e Ordenação;</li>\n",
        "  <li>Combinação;</li>\n",
        "  <li>Técnicas Avançadas.</li>\n",
        "</ol>"
      ]
    },
    {
      "cell_type": "markdown",
      "metadata": {
        "id": "SmoHgt-lwkpD"
      },
      "source": [
        "---"
      ]
    },
    {
      "cell_type": "markdown",
      "metadata": {
        "id": "GABI6OW8OfQ2"
      },
      "source": [
        "# **Exercícios**"
      ]
    },
    {
      "cell_type": "markdown",
      "metadata": {
        "id": "45DbYPgFhuR7"
      },
      "source": [
        "Neste exercícios, vamos trabalhar com dados geográficos, demográficos e econômicos do Brasil. Vamos manipular e combinar dados de duas frentes distintas para poder responder perguntas de negócios."
      ]
    },
    {
      "cell_type": "markdown",
      "metadata": {
        "id": "GWgNoJN8DHyY"
      },
      "source": [
        "## 1\\. Data Wrangling"
      ]
    },
    {
      "cell_type": "markdown",
      "metadata": {
        "id": "E30KnCdKRdYl"
      },
      "source": [
        "### **1.1. Estados**"
      ]
    },
    {
      "cell_type": "markdown",
      "metadata": {
        "id": "w2q1apyNYHbu"
      },
      "source": [
        "O arquivo `estados-bruto.xml` contém informações sobre estados (nome, sigla e região). **Carregue-o na máquina virtual do Google Colab**. Um arquivo do tipo XML é similar a um arquivo do tipo HTML, exemplo do estado do Acre:"
      ]
    },
    {
      "cell_type": "markdown",
      "metadata": {
        "id": "GzjE2aEyYW5A"
      },
      "source": [
        "```xml\n",
        "<ESTADO>\n",
        "  <ID>1</ID>\n",
        "  <NOME>ACRE</NOME>\n",
        "  <IDCAPITAL>16</IDCAPITAL>\n",
        "  <SIGLA>AC</SIGLA>\n",
        "  <REGIAO>NORTE</REGIAO>\n",
        "</ESTADO>\n",
        "```"
      ]
    },
    {
      "cell_type": "markdown",
      "metadata": {
        "id": "7Mtk7Dd9UHqg"
      },
      "source": [
        "Utilize o pacote Python `beautifulsoup4` para extrair os dados do arquivo `estados-bruto.xml` providenciado. Salve os dados extraidos no arquivo `estados-limpo.csv` separado por `;`. Exemplo das três primeiras linhas mais o cabeçalho:\n",
        "\n",
        "```\n",
        "estado;sigla;regiao\n",
        "ACRE;AC;NORTE\n",
        "ALAGOAS;AL;NORDESTE\n",
        "AMAPA;AP;NORTE\n",
        "```\n",
        "\n",
        "**Dica**: Utilize o parser de xml chamado `lxml` do `beautifulsoup4`."
      ]
    },
    {
      "cell_type": "code",
      "metadata": {
        "id": "kz0ZyYI0Sg6P"
      },
      "source": [
        "# Importação do BeautifulSoup para manipular arquivos XML\n",
        "from bs4 import BeautifulSoup\n",
        "import pandas as pd\n",
        "\n",
        "# Nome dos arquivos\n",
        "NOME_ARQUIVO_ESTADOS_BRUTO = 'estados-bruto.xml'\n",
        "NOME_ARQUIVO_ESTADOS_LIMPO = 'estados-limpo.csv'\n",
        "\n",
        "# Carregar o arquivo XML\n",
        "with open(NOME_ARQUIVO_ESTADOS_BRUTO, 'r', encoding='utf-8') as f:\n",
        "    fonte = BeautifulSoup(f, features=\"xml\")"
      ],
      "execution_count": 37,
      "outputs": []
    },
    {
      "cell_type": "code",
      "metadata": {
        "id": "rB0u2NjEXhDo",
        "colab": {
          "base_uri": "https://localhost:8080/"
        },
        "outputId": "2fdf9d8e-42db-4b61-9acd-1b6b11280129"
      },
      "source": [
        "# visualize os resultados\n",
        "\n",
        "fonte"
      ],
      "execution_count": 38,
      "outputs": [
        {
          "output_type": "execute_result",
          "data": {
            "text/plain": [
              "<?xml version=\"1.0\" encoding=\"utf-8\"?>\n",
              "<ESTADOS>\n",
              "<ESTADO>\n",
              "<ID>1</ID>\n",
              "<NOME>ACRE</NOME>\n",
              "<IDCAPITAL>16</IDCAPITAL>\n",
              "<SIGLA>AC</SIGLA>\n",
              "<REGIAO>NORTE</REGIAO>\n",
              "</ESTADO>\n",
              "<ESTADO>\n",
              "<ID>2</ID>\n",
              "<NOME>ALAGOAS</NOME>\n",
              "<IDCAPITAL>68</IDCAPITAL>\n",
              "<SIGLA>AL</SIGLA>\n",
              "<REGIAO>NORDESTE</REGIAO>\n",
              "</ESTADO>\n",
              "<ESTADO>\n",
              "<ID>3</ID>\n",
              "<NOME>AMAPA</NOME>\n",
              "<IDCAPITAL>131</IDCAPITAL>\n",
              "<SIGLA>AP</SIGLA>\n",
              "<REGIAO>NORTE</REGIAO>\n",
              "</ESTADO>\n",
              "<ESTADO>\n",
              "<ID>4</ID>\n",
              "<NOME>AMAZONAS</NOME>\n",
              "<IDCAPITAL>178</IDCAPITAL>\n",
              "<SIGLA>AM</SIGLA>\n",
              "<REGIAO>NORTE</REGIAO>\n",
              "</ESTADO>\n",
              "<ESTADO>\n",
              "<ID>5</ID>\n",
              "<NOME>BAHIA</NOME>\n",
              "<IDCAPITAL>536</IDCAPITAL>\n",
              "<SIGLA>BA</SIGLA>\n",
              "<REGIAO>NORDESTE</REGIAO>\n",
              "</ESTADO>\n",
              "<ESTADO>\n",
              "<ID>6</ID>\n",
              "<NOME>CEARA</NOME>\n",
              "<IDCAPITAL>676</IDCAPITAL>\n",
              "<SIGLA>CE</SIGLA>\n",
              "<REGIAO>NORDESTE</REGIAO>\n",
              "</ESTADO>\n",
              "<ESTADO>\n",
              "<ID>7</ID>\n",
              "<NOME>DISTRITO FEDERAL</NOME>\n",
              "<IDCAPITAL>916</IDCAPITAL>\n",
              "<SIGLA>DF</SIGLA>\n",
              "<REGIAO>CENTRO-OESTE</REGIAO>\n",
              "</ESTADO>\n",
              "<ESTADO>\n",
              "<ID>8</ID>\n",
              "<NOME>ESPIRITO SANTO</NOME>\n",
              "<IDCAPITAL>879</IDCAPITAL>\n",
              "<SIGLA>ES</SIGLA>\n",
              "<REGIAO>SUDESTE</REGIAO>\n",
              "</ESTADO>\n",
              "<ESTADO>\n",
              "<ID>9</ID>\n",
              "<NOME>GOIAS</NOME>\n",
              "<IDCAPITAL>973</IDCAPITAL>\n",
              "<SIGLA>GO</SIGLA>\n",
              "<REGIAO>CENTRO-OESTE</REGIAO>\n",
              "</ESTADO>\n",
              "<ESTADO>\n",
              "<ID>10</ID>\n",
              "<NOME>MARANHAO</NOME>\n",
              "<IDCAPITAL>1309</IDCAPITAL>\n",
              "<SIGLA>MA</SIGLA>\n",
              "<REGIAO>NORDESTE</REGIAO>\n",
              "</ESTADO>\n",
              "<ESTADO>\n",
              "<ID>11</ID>\n",
              "<NOME>MATO GROSSO</NOME>\n",
              "<IDCAPITAL>1374</IDCAPITAL>\n",
              "<SIGLA>MT</SIGLA>\n",
              "<REGIAO>CENTRO-OESTE</REGIAO>\n",
              "</ESTADO>\n",
              "<ESTADO>\n",
              "<ID>12</ID>\n",
              "<NOME>MATO GROSSO DO SUL</NOME>\n",
              "<IDCAPITAL>1485</IDCAPITAL>\n",
              "<SIGLA>MS</SIGLA>\n",
              "<REGIAO>CENTRO-OESTE</REGIAO>\n",
              "</ESTADO>\n",
              "<ESTADO>\n",
              "<ID>13</ID>\n",
              "<NOME>PARA</NOME>\n",
              "<IDCAPITAL>1561</IDCAPITAL>\n",
              "<SIGLA>PA</SIGLA>\n",
              "<REGIAO>NORTE</REGIAO>\n",
              "</ESTADO>\n",
              "<ESTADO>\n",
              "<ID>14</ID>\n",
              "<NOME>PARAIBA</NOME>\n",
              "<IDCAPITAL>1779</IDCAPITAL>\n",
              "<SIGLA>PB</SIGLA>\n",
              "<REGIAO>NORDESTE</REGIAO>\n",
              "</ESTADO>\n",
              "<ESTADO>\n",
              "<ID>15</ID>\n",
              "<NOME>PARANA</NOME>\n",
              "<IDCAPITAL>2002</IDCAPITAL>\n",
              "<SIGLA>PR</SIGLA>\n",
              "<REGIAO>SUL</REGIAO>\n",
              "</ESTADO>\n",
              "<ESTADO>\n",
              "<ID>16</ID>\n",
              "<NOME>PERNAMBUCO</NOME>\n",
              "<IDCAPITAL>2439</IDCAPITAL>\n",
              "<SIGLA>PE</SIGLA>\n",
              "<REGIAO>NORDESTE</REGIAO>\n",
              "</ESTADO>\n",
              "<ESTADO>\n",
              "<ID>17</ID>\n",
              "<NOME>PIAUI</NOME>\n",
              "<IDCAPITAL>2704</IDCAPITAL>\n",
              "<SIGLA>PI</SIGLA>\n",
              "<REGIAO>NORDESTE</REGIAO>\n",
              "</ESTADO>\n",
              "<ESTADO>\n",
              "<ID>18</ID>\n",
              "<NOME>RIO DE JANEIRO</NOME>\n",
              "<IDCAPITAL>2779</IDCAPITAL>\n",
              "<SIGLA>RJ</SIGLA>\n",
              "<REGIAO>SUDESTE</REGIAO>\n",
              "</ESTADO>\n",
              "<ESTADO>\n",
              "<ID>19</ID>\n",
              "<NOME>RIO GRANDE DO NORTE</NOME>\n",
              "<IDCAPITAL>2890</IDCAPITAL>\n",
              "<SIGLA>RN</SIGLA>\n",
              "<REGIAO>NORDESTE</REGIAO>\n",
              "</ESTADO>\n",
              "<ESTADO>\n",
              "<ID>20</ID>\n",
              "<NOME>RIO GRANDE DO SUL</NOME>\n",
              "<IDCAPITAL>3273</IDCAPITAL>\n",
              "<SIGLA>RS</SIGLA>\n",
              "<REGIAO>SUL</REGIAO>\n",
              "</ESTADO>\n",
              "<ESTADO>\n",
              "<ID>21</ID>\n",
              "<NOME>RONDONIA</NOME>\n",
              "<IDCAPITAL>3473</IDCAPITAL>\n",
              "<SIGLA>RO</SIGLA>\n",
              "<REGIAO>NORTE</REGIAO>\n",
              "</ESTADO>\n",
              "<ESTADO>\n",
              "<ID>22</ID>\n",
              "<NOME>RORAIMA</NOME>\n",
              "<IDCAPITAL>3491</IDCAPITAL>\n",
              "<SIGLA>RR</SIGLA>\n",
              "<REGIAO>NORTE</REGIAO>\n",
              "</ESTADO>\n",
              "<ESTADO>\n",
              "<ID>23</ID>\n",
              "<NOME>SANTA CATARINA</NOME>\n",
              "<IDCAPITAL>3591</IDCAPITAL>\n",
              "<SIGLA>SC</SIGLA>\n",
              "<REGIAO>SUL</REGIAO>\n",
              "</ESTADO>\n",
              "<ESTADO>\n",
              "<ID>24</ID>\n",
              "<NOME>SAO PAULO</NOME>\n",
              "<IDCAPITAL>4361</IDCAPITAL>\n",
              "<SIGLA>SP</SIGLA>\n",
              "<REGIAO>SUDESTE</REGIAO>\n",
              "</ESTADO>\n",
              "<ESTADO>\n",
              "<ID>25</ID>\n",
              "<NOME>SERGIPE</NOME>\n",
              "<IDCAPITAL>4444</IDCAPITAL>\n",
              "<SIGLA>SE</SIGLA>\n",
              "<REGIAO>NORDESTE</REGIAO>\n",
              "</ESTADO>\n",
              "<ESTADO>\n",
              "<ID>26</ID>\n",
              "<NOME>TOCANTINS</NOME>\n",
              "<IDCAPITAL>4606</IDCAPITAL>\n",
              "<SIGLA>TO</SIGLA>\n",
              "<REGIAO>NORTE</REGIAO>\n",
              "</ESTADO>\n",
              "<ESTADO>\n",
              "<ID>27</ID>\n",
              "<NOME>MINAS GERAIS</NOME>\n",
              "<IDCAPITAL>4790</IDCAPITAL>\n",
              "<SIGLA>MG</SIGLA>\n",
              "<REGIAO>SUDESTE</REGIAO>\n",
              "</ESTADO>\n",
              "</ESTADOS>"
            ]
          },
          "metadata": {},
          "execution_count": 38
        }
      ]
    },
    {
      "cell_type": "code",
      "metadata": {
        "id": "6mos3LTVXrzV"
      },
      "source": [
        "# Extrair dados do arquivo XML\n",
        "estados = []\n",
        "for estado in fonte.find_all('ESTADO'):\n",
        "    nome = estado.find('NOME').text\n",
        "    sigla = estado.find('SIGLA').text\n",
        "    regiao = estado.find('REGIAO').text\n",
        "    estados.append([nome, sigla, regiao])"
      ],
      "execution_count": 23,
      "outputs": []
    },
    {
      "cell_type": "code",
      "metadata": {
        "id": "9yCma_LASxFg",
        "colab": {
          "base_uri": "https://localhost:8080/",
          "height": 206
        },
        "outputId": "6258e933-e237-440b-b62f-d5fa5e02641c"
      },
      "source": [
        "# Criar DataFrame e salvar como CSV\n",
        "df_estados = pd.DataFrame(estados, columns=['estado', 'sigla', 'regiao'])\n",
        "df_estados.to_csv(NOME_ARQUIVO_ESTADOS_LIMPO, sep=';', index=False)\n",
        "\n",
        "# Visualizar os dados extraídos\n",
        "df_estados.head()"
      ],
      "execution_count": 24,
      "outputs": [
        {
          "output_type": "execute_result",
          "data": {
            "text/plain": [
              "     estado sigla    regiao\n",
              "0      ACRE    AC     NORTE\n",
              "1   ALAGOAS    AL  NORDESTE\n",
              "2     AMAPA    AP     NORTE\n",
              "3  AMAZONAS    AM     NORTE\n",
              "4     BAHIA    BA  NORDESTE"
            ],
            "text/html": [
              "\n",
              "  <div id=\"df-3937a9c5-8375-4629-8f28-d632b94e1867\" class=\"colab-df-container\">\n",
              "    <div>\n",
              "<style scoped>\n",
              "    .dataframe tbody tr th:only-of-type {\n",
              "        vertical-align: middle;\n",
              "    }\n",
              "\n",
              "    .dataframe tbody tr th {\n",
              "        vertical-align: top;\n",
              "    }\n",
              "\n",
              "    .dataframe thead th {\n",
              "        text-align: right;\n",
              "    }\n",
              "</style>\n",
              "<table border=\"1\" class=\"dataframe\">\n",
              "  <thead>\n",
              "    <tr style=\"text-align: right;\">\n",
              "      <th></th>\n",
              "      <th>estado</th>\n",
              "      <th>sigla</th>\n",
              "      <th>regiao</th>\n",
              "    </tr>\n",
              "  </thead>\n",
              "  <tbody>\n",
              "    <tr>\n",
              "      <th>0</th>\n",
              "      <td>ACRE</td>\n",
              "      <td>AC</td>\n",
              "      <td>NORTE</td>\n",
              "    </tr>\n",
              "    <tr>\n",
              "      <th>1</th>\n",
              "      <td>ALAGOAS</td>\n",
              "      <td>AL</td>\n",
              "      <td>NORDESTE</td>\n",
              "    </tr>\n",
              "    <tr>\n",
              "      <th>2</th>\n",
              "      <td>AMAPA</td>\n",
              "      <td>AP</td>\n",
              "      <td>NORTE</td>\n",
              "    </tr>\n",
              "    <tr>\n",
              "      <th>3</th>\n",
              "      <td>AMAZONAS</td>\n",
              "      <td>AM</td>\n",
              "      <td>NORTE</td>\n",
              "    </tr>\n",
              "    <tr>\n",
              "      <th>4</th>\n",
              "      <td>BAHIA</td>\n",
              "      <td>BA</td>\n",
              "      <td>NORDESTE</td>\n",
              "    </tr>\n",
              "  </tbody>\n",
              "</table>\n",
              "</div>\n",
              "    <div class=\"colab-df-buttons\">\n",
              "\n",
              "  <div class=\"colab-df-container\">\n",
              "    <button class=\"colab-df-convert\" onclick=\"convertToInteractive('df-3937a9c5-8375-4629-8f28-d632b94e1867')\"\n",
              "            title=\"Convert this dataframe to an interactive table.\"\n",
              "            style=\"display:none;\">\n",
              "\n",
              "  <svg xmlns=\"http://www.w3.org/2000/svg\" height=\"24px\" viewBox=\"0 -960 960 960\">\n",
              "    <path d=\"M120-120v-720h720v720H120Zm60-500h600v-160H180v160Zm220 220h160v-160H400v160Zm0 220h160v-160H400v160ZM180-400h160v-160H180v160Zm440 0h160v-160H620v160ZM180-180h160v-160H180v160Zm440 0h160v-160H620v160Z\"/>\n",
              "  </svg>\n",
              "    </button>\n",
              "\n",
              "  <style>\n",
              "    .colab-df-container {\n",
              "      display:flex;\n",
              "      gap: 12px;\n",
              "    }\n",
              "\n",
              "    .colab-df-convert {\n",
              "      background-color: #E8F0FE;\n",
              "      border: none;\n",
              "      border-radius: 50%;\n",
              "      cursor: pointer;\n",
              "      display: none;\n",
              "      fill: #1967D2;\n",
              "      height: 32px;\n",
              "      padding: 0 0 0 0;\n",
              "      width: 32px;\n",
              "    }\n",
              "\n",
              "    .colab-df-convert:hover {\n",
              "      background-color: #E2EBFA;\n",
              "      box-shadow: 0px 1px 2px rgba(60, 64, 67, 0.3), 0px 1px 3px 1px rgba(60, 64, 67, 0.15);\n",
              "      fill: #174EA6;\n",
              "    }\n",
              "\n",
              "    .colab-df-buttons div {\n",
              "      margin-bottom: 4px;\n",
              "    }\n",
              "\n",
              "    [theme=dark] .colab-df-convert {\n",
              "      background-color: #3B4455;\n",
              "      fill: #D2E3FC;\n",
              "    }\n",
              "\n",
              "    [theme=dark] .colab-df-convert:hover {\n",
              "      background-color: #434B5C;\n",
              "      box-shadow: 0px 1px 3px 1px rgba(0, 0, 0, 0.15);\n",
              "      filter: drop-shadow(0px 1px 2px rgba(0, 0, 0, 0.3));\n",
              "      fill: #FFFFFF;\n",
              "    }\n",
              "  </style>\n",
              "\n",
              "    <script>\n",
              "      const buttonEl =\n",
              "        document.querySelector('#df-3937a9c5-8375-4629-8f28-d632b94e1867 button.colab-df-convert');\n",
              "      buttonEl.style.display =\n",
              "        google.colab.kernel.accessAllowed ? 'block' : 'none';\n",
              "\n",
              "      async function convertToInteractive(key) {\n",
              "        const element = document.querySelector('#df-3937a9c5-8375-4629-8f28-d632b94e1867');\n",
              "        const dataTable =\n",
              "          await google.colab.kernel.invokeFunction('convertToInteractive',\n",
              "                                                    [key], {});\n",
              "        if (!dataTable) return;\n",
              "\n",
              "        const docLinkHtml = 'Like what you see? Visit the ' +\n",
              "          '<a target=\"_blank\" href=https://colab.research.google.com/notebooks/data_table.ipynb>data table notebook</a>'\n",
              "          + ' to learn more about interactive tables.';\n",
              "        element.innerHTML = '';\n",
              "        dataTable['output_type'] = 'display_data';\n",
              "        await google.colab.output.renderOutput(dataTable, element);\n",
              "        const docLink = document.createElement('div');\n",
              "        docLink.innerHTML = docLinkHtml;\n",
              "        element.appendChild(docLink);\n",
              "      }\n",
              "    </script>\n",
              "  </div>\n",
              "\n",
              "\n",
              "<div id=\"df-5c59431d-92f7-4f13-83b0-943591d4c1bd\">\n",
              "  <button class=\"colab-df-quickchart\" onclick=\"quickchart('df-5c59431d-92f7-4f13-83b0-943591d4c1bd')\"\n",
              "            title=\"Suggest charts\"\n",
              "            style=\"display:none;\">\n",
              "\n",
              "<svg xmlns=\"http://www.w3.org/2000/svg\" height=\"24px\"viewBox=\"0 0 24 24\"\n",
              "     width=\"24px\">\n",
              "    <g>\n",
              "        <path d=\"M19 3H5c-1.1 0-2 .9-2 2v14c0 1.1.9 2 2 2h14c1.1 0 2-.9 2-2V5c0-1.1-.9-2-2-2zM9 17H7v-7h2v7zm4 0h-2V7h2v10zm4 0h-2v-4h2v4z\"/>\n",
              "    </g>\n",
              "</svg>\n",
              "  </button>\n",
              "\n",
              "<style>\n",
              "  .colab-df-quickchart {\n",
              "      --bg-color: #E8F0FE;\n",
              "      --fill-color: #1967D2;\n",
              "      --hover-bg-color: #E2EBFA;\n",
              "      --hover-fill-color: #174EA6;\n",
              "      --disabled-fill-color: #AAA;\n",
              "      --disabled-bg-color: #DDD;\n",
              "  }\n",
              "\n",
              "  [theme=dark] .colab-df-quickchart {\n",
              "      --bg-color: #3B4455;\n",
              "      --fill-color: #D2E3FC;\n",
              "      --hover-bg-color: #434B5C;\n",
              "      --hover-fill-color: #FFFFFF;\n",
              "      --disabled-bg-color: #3B4455;\n",
              "      --disabled-fill-color: #666;\n",
              "  }\n",
              "\n",
              "  .colab-df-quickchart {\n",
              "    background-color: var(--bg-color);\n",
              "    border: none;\n",
              "    border-radius: 50%;\n",
              "    cursor: pointer;\n",
              "    display: none;\n",
              "    fill: var(--fill-color);\n",
              "    height: 32px;\n",
              "    padding: 0;\n",
              "    width: 32px;\n",
              "  }\n",
              "\n",
              "  .colab-df-quickchart:hover {\n",
              "    background-color: var(--hover-bg-color);\n",
              "    box-shadow: 0 1px 2px rgba(60, 64, 67, 0.3), 0 1px 3px 1px rgba(60, 64, 67, 0.15);\n",
              "    fill: var(--button-hover-fill-color);\n",
              "  }\n",
              "\n",
              "  .colab-df-quickchart-complete:disabled,\n",
              "  .colab-df-quickchart-complete:disabled:hover {\n",
              "    background-color: var(--disabled-bg-color);\n",
              "    fill: var(--disabled-fill-color);\n",
              "    box-shadow: none;\n",
              "  }\n",
              "\n",
              "  .colab-df-spinner {\n",
              "    border: 2px solid var(--fill-color);\n",
              "    border-color: transparent;\n",
              "    border-bottom-color: var(--fill-color);\n",
              "    animation:\n",
              "      spin 1s steps(1) infinite;\n",
              "  }\n",
              "\n",
              "  @keyframes spin {\n",
              "    0% {\n",
              "      border-color: transparent;\n",
              "      border-bottom-color: var(--fill-color);\n",
              "      border-left-color: var(--fill-color);\n",
              "    }\n",
              "    20% {\n",
              "      border-color: transparent;\n",
              "      border-left-color: var(--fill-color);\n",
              "      border-top-color: var(--fill-color);\n",
              "    }\n",
              "    30% {\n",
              "      border-color: transparent;\n",
              "      border-left-color: var(--fill-color);\n",
              "      border-top-color: var(--fill-color);\n",
              "      border-right-color: var(--fill-color);\n",
              "    }\n",
              "    40% {\n",
              "      border-color: transparent;\n",
              "      border-right-color: var(--fill-color);\n",
              "      border-top-color: var(--fill-color);\n",
              "    }\n",
              "    60% {\n",
              "      border-color: transparent;\n",
              "      border-right-color: var(--fill-color);\n",
              "    }\n",
              "    80% {\n",
              "      border-color: transparent;\n",
              "      border-right-color: var(--fill-color);\n",
              "      border-bottom-color: var(--fill-color);\n",
              "    }\n",
              "    90% {\n",
              "      border-color: transparent;\n",
              "      border-bottom-color: var(--fill-color);\n",
              "    }\n",
              "  }\n",
              "</style>\n",
              "\n",
              "  <script>\n",
              "    async function quickchart(key) {\n",
              "      const quickchartButtonEl =\n",
              "        document.querySelector('#' + key + ' button');\n",
              "      quickchartButtonEl.disabled = true;  // To prevent multiple clicks.\n",
              "      quickchartButtonEl.classList.add('colab-df-spinner');\n",
              "      try {\n",
              "        const charts = await google.colab.kernel.invokeFunction(\n",
              "            'suggestCharts', [key], {});\n",
              "      } catch (error) {\n",
              "        console.error('Error during call to suggestCharts:', error);\n",
              "      }\n",
              "      quickchartButtonEl.classList.remove('colab-df-spinner');\n",
              "      quickchartButtonEl.classList.add('colab-df-quickchart-complete');\n",
              "    }\n",
              "    (() => {\n",
              "      let quickchartButtonEl =\n",
              "        document.querySelector('#df-5c59431d-92f7-4f13-83b0-943591d4c1bd button');\n",
              "      quickchartButtonEl.style.display =\n",
              "        google.colab.kernel.accessAllowed ? 'block' : 'none';\n",
              "    })();\n",
              "  </script>\n",
              "</div>\n",
              "\n",
              "    </div>\n",
              "  </div>\n"
            ],
            "application/vnd.google.colaboratory.intrinsic+json": {
              "type": "dataframe",
              "variable_name": "df_estados",
              "summary": "{\n  \"name\": \"df_estados\",\n  \"rows\": 27,\n  \"fields\": [\n    {\n      \"column\": \"estado\",\n      \"properties\": {\n        \"dtype\": \"string\",\n        \"num_unique_values\": 27,\n        \"samples\": [\n          \"GOIAS\",\n          \"PARAIBA\",\n          \"MARANHAO\"\n        ],\n        \"semantic_type\": \"\",\n        \"description\": \"\"\n      }\n    },\n    {\n      \"column\": \"sigla\",\n      \"properties\": {\n        \"dtype\": \"string\",\n        \"num_unique_values\": 27,\n        \"samples\": [\n          \"GO\",\n          \"PB\",\n          \"MA\"\n        ],\n        \"semantic_type\": \"\",\n        \"description\": \"\"\n      }\n    },\n    {\n      \"column\": \"regiao\",\n      \"properties\": {\n        \"dtype\": \"category\",\n        \"num_unique_values\": 5,\n        \"samples\": [\n          \"NORDESTE\",\n          \"SUL\",\n          \"CENTRO-OESTE\"\n        ],\n        \"semantic_type\": \"\",\n        \"description\": \"\"\n      }\n    }\n  ]\n}"
            }
          },
          "metadata": {},
          "execution_count": 24
        }
      ]
    },
    {
      "source": [
        "# @title regiao\n",
        "\n",
        "from matplotlib import pyplot as plt\n",
        "import seaborn as sns\n",
        "df_estados.groupby('regiao').size().plot(kind='barh', color=sns.palettes.mpl_palette('Dark2'))\n",
        "plt.gca().spines[['top', 'right',]].set_visible(False)"
      ],
      "cell_type": "code",
      "execution_count": 25,
      "outputs": [
        {
          "output_type": "display_data",
          "data": {
            "text/plain": [
              "<Figure size 640x480 with 1 Axes>"
            ],
            "image/png": "[encoded data removed]"
          },
          "metadata": {}
        }
      ],
      "metadata": {
        "cellView": "form",
        "colab": {
          "base_uri": "https://localhost:8080/",
          "height": 430
        },
        "id": "J30fhHLOA6eG",
        "outputId": "7b7dfb83-e2b9-41f7-83f3-7056b0084229"
      }
    },
    {
      "cell_type": "markdown",
      "metadata": {
        "id": "Fq0xqYYSYq92"
      },
      "source": [
        "### **1.2. Cidades**"
      ]
    },
    {
      "cell_type": "markdown",
      "metadata": {
        "id": "eWRbjhOQYq93"
      },
      "source": [
        "O arquivo `cidades-bruto.csv` contém informações demográficas e socioeconomicas das cidades do Brasil. **Carregue-o na máquina virtual do Google Colab**. Utilize o pacote Python `pandas` para extrair os dados do arquivo `cidades-bruto.xml` providenciado. Seguindo as seguintes especificações:"
      ]
    },
    {
      "cell_type": "markdown",
      "metadata": {
        "id": "76zW8sMsbhEu"
      },
      "source": [
        "1. Apenas dados do censo de 2010;\n",
        "1. Apenas as colunas UF, Nome, PIB, Pop_est_2009 e PIB_percapita."
      ]
    },
    {
      "cell_type": "markdown",
      "metadata": {
        "id": "auiIxlw-blp8"
      },
      "source": [
        "Salve os dados extraidos no arquivo `cidades-limpo.csv` separado por `;`. Exemplo das três primeiras linhas mais o cabeçalho:\n",
        "\n",
        "```\n",
        "estado;cidade;populacao;pib;pib_percapita\n",
        "BAHIA;TREMEDAL;18433;57883.9921875;3140.23999023\n",
        "RIO GRANDE DO SUL;TURUÇU;4000;45723875;11430.96972656\n",
        "ESPIRITO SANTO;VITÓRIA;320156;19782628;61790.58984375\n",
        "```"
      ]
    },
    {
      "cell_type": "code",
      "source": [
        "import pandas as pd\n",
        "import os\n",
        "\n",
        "# Nome do arquivo\n",
        "NOME_ARQUIVO_CIDADES_BRUTO = '/content/cidades-bruto.csv'  # Caminho do arquivo bruto\n",
        "\n",
        "# Verificar se o arquivo existe\n",
        "if not os.path.exists(NOME_ARQUIVO_CIDADES_BRUTO):\n",
        "    raise FileNotFoundError(f\"O arquivo {NOME_ARQUIVO_CIDADES_BRUTO} não foi encontrado.\")\n",
        "else:\n",
        "    print(f\"Arquivo {NOME_ARQUIVO_CIDADES_BRUTO} encontrado.\")\n",
        "\n",
        "# Carregar o arquivo CSV\n",
        "df_cidades = pd.read_csv(NOME_ARQUIVO_CIDADES_BRUTO, delimiter=',', encoding='utf-8')\n",
        "\n",
        "# Exibir o cabeçalho do DataFrame\n",
        "print(\"Cabeçalho do arquivo carregado:\")\n",
        "print(df_cidades.head())"
      ],
      "metadata": {
        "colab": {
          "base_uri": "https://localhost:8080/"
        },
        "id": "HwoiasSPmGYB",
        "outputId": "9dc7a126-0863-4626-bfc8-99b517dbcb33"
      },
      "execution_count": 93,
      "outputs": [
        {
          "output_type": "stream",
          "name": "stdout",
          "text": [
            "Arquivo /content/cidades-bruto.csv encontrado.\n",
            "Cabeçalho do arquivo carregado:\n",
            "                                               FID   gid                 UF  \\\n",
            "0  vw_pib_percapita.fid-4514e25a_17aaa325034_-258f   215              BAHIA   \n",
            "1  vw_pib_percapita.fid-4514e25a_17aaa325034_-258e   306  RIO GRANDE DO SUL   \n",
            "2  vw_pib_percapita.fid-4514e25a_17aaa325034_-258d   900     ESPIRITO SANTO   \n",
            "3  vw_pib_percapita.fid-4514e25a_17aaa325034_-258c  3613       MINAS GERAIS   \n",
            "4  vw_pib_percapita.fid-4514e25a_17aaa325034_-258b  1028              PIAUÍ   \n",
            "\n",
            "        nome   Censo           PIB  Pop_est_2009  PIB_percapita  \\\n",
            "0   Tremedal  2010.0  5.788399e+04         18433    3140.239990   \n",
            "1     Turuçu  2010.0  4.572388e+04          4000   11430.969727   \n",
            "2    Vitória  2010.0  1.978263e+07        320156   61790.589844   \n",
            "3  Jacutinga  2010.0  2.478160e+05         21424   11567.209961   \n",
            "4    Nazária  2010.0  2.095138e+04          7895    2653.750000   \n",
            "\n",
            "                          Descrição               legenda  classe  \\\n",
            "0  Produto Interno Bruto per capita             - 9639.65       1   \n",
            "1  Produto Interno Bruto per capita    9639.65 - 22144.80       2   \n",
            "2  Produto Interno Bruto per capita  52702.10 - 133669.00       4   \n",
            "3  Produto Interno Bruto per capita    9639.65 - 22144.80       2   \n",
            "4  Produto Interno Bruto per capita             - 9639.65       1   \n",
            "\n",
            "                                                geom  \n",
            "0  MULTIPOLYGON (((-41.458803305191566 -14.781415...  \n",
            "1  MULTIPOLYGON (((-52.035349932081274 -31.567509...  \n",
            "2  MULTIPOLYGON (((-40.3292566978242 -20.23997417...  \n",
            "3  MULTIPOLYGON (((-46.50528160015326 -22.3400120...  \n",
            "4  POLYGON ((-42.826685407155495 -5.3480291684437...  \n"
          ]
        }
      ]
    },
    {
      "cell_type": "code",
      "metadata": {
        "id": "nBmWOkvzYq94",
        "colab": {
          "base_uri": "https://localhost:8080/"
        },
        "outputId": "c4bf72f1-eaaa-4eaf-c598-8b6491c4fff9"
      },
      "source": [
        "import pandas as pd\n",
        "import os\n",
        "\n",
        "# Nome dos arquivos\n",
        "NOME_ARQUIVO_CIDADES_BRUTO = '/content/cidades-bruto.csv'  # Caminho do arquivo bruto na máquina virtual\n",
        "NOME_ARQUIVO_CIDADES_LIMPO = '/content/cidades-limpo.csv'  # Caminho do arquivo limpo a ser salvo\n",
        "\n",
        "# Função para verificar se o arquivo bruto existe na máquina virtual\n",
        "def verificar_arquivo(nome_arquivo):\n",
        "    if not os.path.exists(nome_arquivo):\n",
        "        raise FileNotFoundError(f\"O arquivo {nome_arquivo} não foi encontrado na máquina virtual do Google Colab.\")\n",
        "    print(f\"Arquivo {nome_arquivo} encontrado.\")\n",
        "\n",
        "# Função para carregar e processar os dados conforme as especificações\n",
        "def processar_dados(nome_arquivo):\n",
        "    try:\n",
        "        # Carregar o arquivo cidades-bruto.csv com delimitador ','\n",
        "        df_cidades = pd.read_csv(nome_arquivo, delimiter=',', encoding='utf-8')\n",
        "\n",
        "        # Listar as colunas disponíveis para depuração\n",
        "        print(\"\\nColunas disponíveis no arquivo:\")\n",
        "        print(df_cidades.columns.tolist())\n",
        "\n",
        "        # Garantir que a coluna 'Censo' existe dinamicamente\n",
        "        coluna_censo = next((col for col in df_cidades.columns if 'Censo' in col), None)\n",
        "        if not coluna_censo:\n",
        "            raise KeyError(\"A coluna 'Censo' não foi encontrada no arquivo.\")\n",
        "\n",
        "        # Filtrar apenas os dados do censo de 2010\n",
        "        df_cidades_2010 = df_cidades[df_cidades[coluna_censo] == 2010]\n",
        "\n",
        "        # Colunas relevantes esperadas\n",
        "        colunas_relevantes = ['UF', 'nome', 'PIB', 'Pop_est_2009', 'PIB_percapita']\n",
        "        for coluna in colunas_relevantes:\n",
        "            if coluna not in df_cidades.columns:\n",
        "                raise KeyError(f\"A coluna '{coluna}' esperada não está presente no arquivo.\")\n",
        "\n",
        "        # Filtrar apenas as colunas relevantes\n",
        "        df_cidades_2010 = df_cidades_2010[colunas_relevantes]\n",
        "\n",
        "        # Renomear as colunas para os nomes finais\n",
        "        df_cidades_2010.rename(columns={\n",
        "            'UF': 'estado',\n",
        "            'nome': 'cidade',\n",
        "            'Pop_est_2009': 'populacao',\n",
        "            'PIB_percapita': 'pib_percapita',\n",
        "            'PIB': 'pib'\n",
        "        }, inplace=True)\n",
        "\n",
        "        # Retornar o DataFrame final processado\n",
        "        return df_cidades_2010\n",
        "\n",
        "    except Exception as e:\n",
        "        print(f\"Erro ao processar o arquivo: {e}\")\n",
        "        return pd.DataFrame()\n",
        "\n",
        "# Função para salvar os dados processados no arquivo final\n",
        "def salvar_dados(df, nome_arquivo_destino):\n",
        "    try:\n",
        "        # Salvar os dados no arquivo cidades-limpo.csv com delimitador ';'\n",
        "        df.to_csv(nome_arquivo_destino, sep=';', index=False)\n",
        "        print(f\"Dados processados salvos no arquivo {nome_arquivo_destino}.\")\n",
        "    except Exception as e:\n",
        "        print(f\"Erro ao salvar os dados: {e}\")\n",
        "\n",
        "# Função para executar o processo completo\n",
        "def executar_item_1_2():\n",
        "    try:\n",
        "        # Verificar se o arquivo bruto existe\n",
        "        verificar_arquivo(NOME_ARQUIVO_CIDADES_BRUTO)\n",
        "\n",
        "        # Processar os dados do arquivo bruto\n",
        "        df_resultado = processar_dados(NOME_ARQUIVO_CIDADES_BRUTO)\n",
        "\n",
        "        # Exibir os dados processados\n",
        "        if not df_resultado.empty:\n",
        "            print(\"\\nPrimeiras linhas do DataFrame processado:\")\n",
        "            print(df_resultado.head())\n",
        "\n",
        "            # Salvar os dados no arquivo final apenas após o processamento\n",
        "            salvar_dados(df_resultado, NOME_ARQUIVO_CIDADES_LIMPO)\n",
        "        else:\n",
        "            print(\"\\nNenhum dado foi processado.\")\n",
        "    except Exception as e:\n",
        "        print(f\"Erro durante a execução: {e}\")\n",
        "\n",
        "# Executar o processo completo\n",
        "executar_item_1_2()"
      ],
      "execution_count": 94,
      "outputs": [
        {
          "output_type": "stream",
          "name": "stdout",
          "text": [
            "Arquivo /content/cidades-bruto.csv encontrado.\n",
            "\n",
            "Colunas disponíveis no arquivo:\n",
            "['FID', 'gid', 'UF', 'nome', 'Censo', 'PIB', 'Pop_est_2009', 'PIB_percapita', 'Descrição', 'legenda', 'classe', 'geom']\n",
            "\n",
            "Primeiras linhas do DataFrame processado:\n",
            "              estado     cidade           pib  populacao  pib_percapita\n",
            "0              BAHIA   Tremedal  5.788399e+04      18433    3140.239990\n",
            "1  RIO GRANDE DO SUL     Turuçu  4.572388e+04       4000   11430.969727\n",
            "2     ESPIRITO SANTO    Vitória  1.978263e+07     320156   61790.589844\n",
            "3       MINAS GERAIS  Jacutinga  2.478160e+05      21424   11567.209961\n",
            "4              PIAUÍ    Nazária  2.095138e+04       7895    2653.750000\n",
            "Dados processados salvos no arquivo /content/cidades-limpo.csv.\n"
          ]
        }
      ]
    },
    {
      "cell_type": "markdown",
      "metadata": {
        "id": "EBzoHVD8b_c7"
      },
      "source": [
        "### **1.3. Brasil**"
      ]
    },
    {
      "cell_type": "markdown",
      "metadata": {
        "id": "Ft6l5bDwb_c7"
      },
      "source": [
        "Utilize o pacote Python `pandas` para combinar os dados do arquivo `estados-limpo.csv` com os dados do arquivo `cidades-limpo.csv` em um único dataframe. Escolha a coluna e o método de combinação de tal forma que **não haja perda de dados** no processo (não produzirá valores nulos `NaN`). Salve os dados do dataframe no arquivo `brasil.csv`"
      ]
    },
    {
      "cell_type": "code",
      "metadata": {
        "id": "Vz3J7G4-dBXa",
        "colab": {
          "base_uri": "https://localhost:8080/"
        },
        "outputId": "e65fb22b-0cf9-4764-a32d-b3e227c8c7d1"
      },
      "source": [
        "# Nome do arquivo combinado\n",
        "NOME_ARQUIVO_BRASIL = '/content/brasil.csv'  # Caminho para salvar o arquivo combinado\n",
        "\n",
        "# Função para combinar os dados de cidades-limpo.csv e estados-limpo.csv\n",
        "def combinar_dados_brasil(arquivo_cidades, arquivo_estados, arquivo_saida):\n",
        "    try:\n",
        "        # Carregar os arquivos limpos\n",
        "        df_cidades = pd.read_csv(arquivo_cidades, delimiter=';', encoding='utf-8')\n",
        "        df_estados = pd.read_csv(arquivo_estados, delimiter=';', encoding='utf-8')\n",
        "\n",
        "        # Combinar os dois DataFrames pelo campo \"estado\"\n",
        "        df_brasil = pd.merge(df_cidades, df_estados, on='estado', how='inner')\n",
        "\n",
        "        # Salvar o DataFrame combinado no arquivo de saída\n",
        "        df_brasil.to_csv(arquivo_saida, sep=';', index=False)\n",
        "        print(f\"Dados combinados salvos no arquivo {arquivo_saida}.\")\n",
        "\n",
        "        # Retornar o DataFrame combinado para visualização\n",
        "        return df_brasil\n",
        "\n",
        "    except Exception as e:\n",
        "        print(f\"Erro ao combinar os dados: {e}\")\n",
        "        return pd.DataFrame()\n",
        "\n",
        "# Executar a combinação dos dados\n",
        "df_brasil = combinar_dados_brasil(\n",
        "    arquivo_cidades=NOME_ARQUIVO_CIDADES_LIMPO,\n",
        "    arquivo_estados='/content/estados-limpo.csv',  # Arquivo de estados limpo\n",
        "    arquivo_saida=NOME_ARQUIVO_BRASIL\n",
        ")\n",
        "\n",
        "# Exibir as primeiras linhas do DataFrame combinado\n",
        "if not df_brasil.empty:\n",
        "    print(\"\\nPrimeiras linhas do arquivo combinado Brasil:\")\n",
        "    print(df_brasil.head())"
      ],
      "execution_count": 95,
      "outputs": [
        {
          "output_type": "stream",
          "name": "stdout",
          "text": [
            "Dados combinados salvos no arquivo /content/brasil.csv.\n",
            "\n",
            "Primeiras linhas do arquivo combinado Brasil:\n",
            "              estado      cidade           pib  populacao  pib_percapita  \\\n",
            "0              BAHIA    Tremedal  5.788399e+04      18433    3140.239990   \n",
            "1  RIO GRANDE DO SUL      Turuçu  4.572388e+04       4000   11430.969727   \n",
            "2     ESPIRITO SANTO     Vitória  1.978263e+07     320156   61790.589844   \n",
            "3       MINAS GERAIS   Jacutinga  2.478160e+05      21424   11567.209961   \n",
            "4       MINAS GERAIS  Pedra Azul  1.875237e+05      26000    7212.450195   \n",
            "\n",
            "  sigla    regiao  \n",
            "0    BA  NORDESTE  \n",
            "1    RS       SUL  \n",
            "2    ES   SUDESTE  \n",
            "3    MG   SUDESTE  \n",
            "4    MG   SUDESTE  \n"
          ]
        }
      ]
    },
    {
      "cell_type": "markdown",
      "metadata": {
        "id": "waxn4B2UDHyl"
      },
      "source": [
        "---"
      ]
    },
    {
      "cell_type": "markdown",
      "metadata": {
        "id": "finLQoyyGVmk"
      },
      "source": [
        "## 2\\. Data Analytics"
      ]
    },
    {
      "cell_type": "markdown",
      "metadata": {
        "id": "Ab0GW19Ed1ig"
      },
      "source": [
        "### **2.1. DataFrame**"
      ]
    },
    {
      "cell_type": "markdown",
      "metadata": {
        "id": "l8jJYjeBdijt"
      },
      "source": [
        "Utilize o pacote Python `pandas` para carregar o arquivo `brasil.csv` no dataframe `brasil_df`."
      ]
    },
    {
      "cell_type": "code",
      "metadata": {
        "id": "8kFQLlqud4QL",
        "colab": {
          "base_uri": "https://localhost:8080/"
        },
        "outputId": "df2eeb93-d84b-40a2-e1e3-3b1da29a14f1"
      },
      "source": [
        "# Carregar o arquivo combinado Brasil\n",
        "df_brasil = pd.read_csv(NOME_ARQUIVO_BRASIL, delimiter=';', encoding='utf-8')\n",
        "\n",
        "# Exibir as primeiras linhas do DataFrame carregado\n",
        "print(\"\\nPrimeiras linhas do arquivo combinado Brasil carregado:\")\n",
        "print(df_brasil.head())"
      ],
      "execution_count": 96,
      "outputs": [
        {
          "output_type": "stream",
          "name": "stdout",
          "text": [
            "\n",
            "Primeiras linhas do arquivo combinado Brasil carregado:\n",
            "              estado      cidade           pib  populacao  pib_percapita  \\\n",
            "0              BAHIA    Tremedal  5.788399e+04      18433    3140.239990   \n",
            "1  RIO GRANDE DO SUL      Turuçu  4.572388e+04       4000   11430.969727   \n",
            "2     ESPIRITO SANTO     Vitória  1.978263e+07     320156   61790.589844   \n",
            "3       MINAS GERAIS   Jacutinga  2.478160e+05      21424   11567.209961   \n",
            "4       MINAS GERAIS  Pedra Azul  1.875237e+05      26000    7212.450195   \n",
            "\n",
            "  sigla    regiao  \n",
            "0    BA  NORDESTE  \n",
            "1    RS       SUL  \n",
            "2    ES   SUDESTE  \n",
            "3    MG   SUDESTE  \n",
            "4    MG   SUDESTE  \n"
          ]
        }
      ]
    },
    {
      "cell_type": "markdown",
      "metadata": {
        "id": "ZFWvK8FXHuex"
      },
      "source": [
        "### **2.2. Analise**"
      ]
    },
    {
      "cell_type": "markdown",
      "metadata": {
        "id": "EGyz0R1dd62D"
      },
      "source": [
        "Utilize o dataframe `brasil_df` para responder as seguintes perguntas de negócio:"
      ]
    },
    {
      "cell_type": "markdown",
      "metadata": {
        "id": "lGnYVp7IeFBD"
      },
      "source": [
        " - Quais são as 10 cidades mais populosas do Brasil?"
      ]
    },
    {
      "cell_type": "code",
      "metadata": {
        "id": "KQKcD-VkeQYf",
        "colab": {
          "base_uri": "https://localhost:8080/"
        },
        "outputId": "26fc68e2-3203-46a5-d9e3-4a661fafbd8d"
      },
      "source": [
        "cidades_mais_populosas = df_brasil.nlargest(10, 'populacao')[['cidade', 'populacao']]\n",
        "print(\"\\n10 Cidades mais populosas do Brasil:\")\n",
        "print(cidades_mais_populosas)"
      ],
      "execution_count": 97,
      "outputs": [
        {
          "output_type": "stream",
          "name": "stdout",
          "text": [
            "\n",
            "10 Cidades mais populosas do Brasil:\n",
            "               cidade  populacao\n",
            "460    Rio de Janeiro    6186710\n",
            "314          Salvador    2998056\n",
            "1790         Brasília    2606885\n",
            "2825   Belo Horizonte    2452617\n",
            "197            Manaus    1738641\n",
            "2047           Recife    1561659\n",
            "572      Porto Alegre    1436123\n",
            "1576      São Gonçalo     991382\n",
            "2528           Maceió     936314\n",
            "2622  Duque de Caxias     872762\n"
          ]
        }
      ]
    },
    {
      "cell_type": "markdown",
      "metadata": {
        "id": "l93St6uleWTp"
      },
      "source": [
        " - Quais são as 5 cidades com a menor PIB per capita da região nordeste?"
      ]
    },
    {
      "cell_type": "code",
      "metadata": {
        "id": "DS5akh2zeWTq",
        "colab": {
          "base_uri": "https://localhost:8080/"
        },
        "outputId": "53b7813e-f011-4d75-d7c7-13b21223e9f1"
      },
      "source": [
        "menor_pib_percapita_ne = df_brasil[df_brasil['regiao'] == 'NORDESTE'].nsmallest(5, 'pib_percapita')[['cidade', 'pib_percapita']]\n",
        "print(\"\\n5 Cidades com o menor PIB per capita da região Nordeste:\")\n",
        "print(menor_pib_percapita_ne)"
      ],
      "execution_count": 98,
      "outputs": [
        {
          "output_type": "stream",
          "name": "stdout",
          "text": [
            "\n",
            "5 Cidades com o menor PIB per capita da região Nordeste:\n",
            "            cidade  pib_percapita\n",
            "2737      Caetanos    2440.570068\n",
            "2806  Novo Triunfo    2497.060059\n",
            "2039        Matina    2551.989990\n",
            "918         Traipu    2649.479980\n",
            "1553      Mansidão    2665.449951\n"
          ]
        }
      ]
    },
    {
      "cell_type": "markdown",
      "metadata": {
        "id": "GqwffgUmedmb"
      },
      "source": [
        " - Quais são as 15 cidades com maior PIB do do estado de São Paulo?"
      ]
    },
    {
      "cell_type": "code",
      "metadata": {
        "id": "tFKEn1gLedmc",
        "colab": {
          "base_uri": "https://localhost:8080/"
        },
        "outputId": "a9a38525-ad02-461d-ef56-b70458698ded"
      },
      "source": [
        "maior_pib_sp = df_brasil[df_brasil['estado'] == 'SÃO PAULO'].nlargest(15, 'pib')[['cidade', 'pib']]\n",
        "print(\"\\n15 Cidades com maior PIB do estado de São Paulo:\")\n",
        "print(maior_pib_sp)"
      ],
      "execution_count": 99,
      "outputs": [
        {
          "output_type": "stream",
          "name": "stdout",
          "text": [
            "\n",
            "15 Cidades com maior PIB do estado de São Paulo:\n",
            "Empty DataFrame\n",
            "Columns: [cidade, pib]\n",
            "Index: []\n"
          ]
        }
      ]
    },
    {
      "cell_type": "markdown",
      "metadata": {
        "id": "Wg_la1wOewoB"
      },
      "source": [
        " - Qual é o PIB do estado de Santa Catarina?"
      ]
    },
    {
      "cell_type": "code",
      "metadata": {
        "id": "LwGqow5_ewoB",
        "colab": {
          "base_uri": "https://localhost:8080/"
        },
        "outputId": "3fd17449-562f-457b-c0fc-50c6204fcda9"
      },
      "source": [
        "pib_sc = df_brasil[df_brasil['estado'] == 'SANTA CATARINA']['pib'].sum()\n",
        "print(\"\\nPIB total do estado de Santa Catarina:\")\n",
        "print(pib_sc)"
      ],
      "execution_count": 100,
      "outputs": [
        {
          "output_type": "stream",
          "name": "stdout",
          "text": [
            "\n",
            "PIB total do estado de Santa Catarina:\n",
            "129806256.75195317\n"
          ]
        }
      ]
    },
    {
      "cell_type": "markdown",
      "metadata": {
        "id": "Yaw2gDukfApr"
      },
      "source": [
        " - Qual é o população da região sul?"
      ]
    },
    {
      "cell_type": "code",
      "metadata": {
        "id": "enEkNjFQfAps",
        "colab": {
          "base_uri": "https://localhost:8080/"
        },
        "outputId": "f43bf960-1641-4e2a-9fc5-18126690576d"
      },
      "source": [
        "populacao_sul = df_brasil[df_brasil['regiao'] == 'SUL']['populacao'].sum()\n",
        "print(\"\\nPopulação total da região Sul:\")\n",
        "print(populacao_sul)"
      ],
      "execution_count": 101,
      "outputs": [
        {
          "output_type": "stream",
          "name": "stdout",
          "text": [
            "\n",
            "População total da região Sul:\n",
            "17032871\n"
          ]
        }
      ]
    },
    {
      "cell_type": "markdown",
      "metadata": {
        "id": "9qOaKRS9fFu8"
      },
      "source": [
        " - Qual é o PIB per capito médio das cidades do Mato Grosso do Sul?"
      ]
    },
    {
      "cell_type": "code",
      "metadata": {
        "id": "gX8DVSfFfFu9",
        "colab": {
          "base_uri": "https://localhost:8080/"
        },
        "outputId": "67497b9f-e1f7-45d3-8065-351fe452db7e"
      },
      "source": [
        "pib_percapita_ms = df_brasil[df_brasil['estado'] == 'MATO GROSSO DO SUL']['pib_percapita'].mean()\n",
        "print(\"\\nPIB per capita médio das cidades do Mato Grosso do Sul:\")\n",
        "print(pib_percapita_ms)"
      ],
      "execution_count": 102,
      "outputs": [
        {
          "output_type": "stream",
          "name": "stdout",
          "text": [
            "\n",
            "PIB per capita médio das cidades do Mato Grosso do Sul:\n",
            "14458.896859975644\n"
          ]
        }
      ]
    },
    {
      "cell_type": "markdown",
      "metadata": {
        "id": "lvf-VqaffS2D"
      },
      "source": [
        " - Qual é a população do Brasil?"
      ]
    },
    {
      "cell_type": "code",
      "metadata": {
        "id": "_nBsY6EcfS2E",
        "colab": {
          "base_uri": "https://localhost:8080/"
        },
        "outputId": "00d79a23-eee8-4396-c96b-6a6f2a135754"
      },
      "source": [
        "populacao_brasil = df_brasil['populacao'].sum()\n",
        "print(\"\\nPopulação total do Brasil:\")\n",
        "print(populacao_brasil)"
      ],
      "execution_count": 103,
      "outputs": [
        {
          "output_type": "stream",
          "name": "stdout",
          "text": [
            "\n",
            "População total do Brasil:\n",
            "101885500\n"
          ]
        }
      ]
    },
    {
      "cell_type": "markdown",
      "metadata": {
        "id": "hnTSARXpipkP"
      },
      "source": [
        "### **2.3. Visualização**"
      ]
    },
    {
      "cell_type": "markdown",
      "metadata": {
        "id": "7coMkY8xixFO"
      },
      "source": [
        "Utilize o dataframe `brasil_df` para gerar as seguintes visualizações."
      ]
    },
    {
      "cell_type": "markdown",
      "metadata": {
        "id": "SgvPvh4Vjctx"
      },
      "source": [
        " - Gere um gráfico de barras com as 10 cidades menos populosas do Brasil."
      ]
    },
    {
      "cell_type": "code",
      "metadata": {
        "id": "V8eM0uEUjcty",
        "colab": {
          "base_uri": "https://localhost:8080/",
          "height": 599
        },
        "outputId": "ba846749-a98e-4b12-ddc6-afe5551164cc"
      },
      "source": [
        "menos_populosas = df_brasil.nsmallest(10, 'populacao')[['cidade', 'populacao']]\n",
        "menos_populosas.plot(kind='bar', x='cidade', y='populacao', title='10 Cidades Menos Populosas', legend=False)\n",
        "plt.ylabel('População')\n",
        "plt.xlabel('Cidade')\n",
        "plt.show()"
      ],
      "execution_count": 104,
      "outputs": [
        {
          "output_type": "display_data",
          "data": {
            "text/plain": [
              "<Figure size 640x480 with 1 Axes>"
            ],
            "image/png": "[encoded data removed]"
          },
          "metadata": {}
        }
      ]
    },
    {
      "cell_type": "markdown",
      "metadata": {
        "id": "gsa3SrTjjrGV"
      },
      "source": [
        " - Gere um gráfico de pizza com a proporção da população do Brasil por região."
      ]
    },
    {
      "cell_type": "code",
      "metadata": {
        "id": "1dvqIAEHjrGV",
        "colab": {
          "base_uri": "https://localhost:8080/",
          "height": 428
        },
        "outputId": "66945337-f9a1-42c2-91f0-a39e73517606"
      },
      "source": [
        "populacao_regiao = df_brasil.groupby('regiao')['populacao'].sum()\n",
        "populacao_regiao.plot(kind='pie', autopct='%1.1f%%', title='População por Região')\n",
        "plt.ylabel('')\n",
        "plt.show()"
      ],
      "execution_count": 105,
      "outputs": [
        {
          "output_type": "display_data",
          "data": {
            "text/plain": [
              "<Figure size 640x480 with 1 Axes>"
            ],
            "image/png": "[encoded data removed]"
          },
          "metadata": {}
        }
      ]
    }
  ]
}